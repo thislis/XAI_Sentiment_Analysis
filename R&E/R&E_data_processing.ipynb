{
  "nbformat": 4,
  "nbformat_minor": 0,
  "metadata": {
    "colab": {
      "name": "R&E_data processing",
      "provenance": [],
      "collapsed_sections": [],
      "mount_file_id": "1xhSRAbjGixcEqBUX8-VZc4T7aeoudsMF",
      "authorship_tag": "ABX9TyMJSC+bfsGpx53CVy0oSL2S",
      "include_colab_link": true
    },
    "kernelspec": {
      "name": "python3",
      "display_name": "Python 3"
    },
    "language_info": {
      "name": "python"
    }
  },
  "cells": [
    {
      "cell_type": "markdown",
      "metadata": {
        "id": "view-in-github",
        "colab_type": "text"
      },
      "source": [
        "<a href=\"https://colab.research.google.com/github/thislis/XAI_Sentiment_Analysis/blob/main/R%26E/R%26E_data_processing.ipynb\" target=\"_parent\"><img src=\"https://colab.research.google.com/assets/colab-badge.svg\" alt=\"Open In Colab\"/></a>"
      ]
    },
    {
      "cell_type": "code",
      "source": [
        "!pip install pandas\n",
        "!pip install openpyxl"
      ],
      "metadata": {
        "colab": {
          "base_uri": "https://localhost:8080/"
        },
        "id": "Opn4UlBzfKYy",
        "outputId": "bae3576e-050c-425a-cb41-6a3e1a9b02a1"
      },
      "execution_count": null,
      "outputs": [
        {
          "output_type": "stream",
          "name": "stdout",
          "text": [
            "Looking in indexes: https://pypi.org/simple, https://us-python.pkg.dev/colab-wheels/public/simple/\n",
            "Requirement already satisfied: pandas in /usr/local/lib/python3.7/dist-packages (1.3.5)\n",
            "Requirement already satisfied: python-dateutil>=2.7.3 in /usr/local/lib/python3.7/dist-packages (from pandas) (2.8.2)\n",
            "Requirement already satisfied: pytz>=2017.3 in /usr/local/lib/python3.7/dist-packages (from pandas) (2022.1)\n",
            "Requirement already satisfied: numpy>=1.17.3 in /usr/local/lib/python3.7/dist-packages (from pandas) (1.21.6)\n",
            "Requirement already satisfied: six>=1.5 in /usr/local/lib/python3.7/dist-packages (from python-dateutil>=2.7.3->pandas) (1.15.0)\n",
            "Looking in indexes: https://pypi.org/simple, https://us-python.pkg.dev/colab-wheels/public/simple/\n",
            "Requirement already satisfied: openpyxl in /usr/local/lib/python3.7/dist-packages (3.0.10)\n",
            "Requirement already satisfied: et-xmlfile in /usr/local/lib/python3.7/dist-packages (from openpyxl) (1.1.0)\n"
          ]
        }
      ]
    },
    {
      "cell_type": "code",
      "source": [
        "from google.colab import drive\n",
        "drive.mount('/content/drive')"
      ],
      "metadata": {
        "colab": {
          "base_uri": "https://localhost:8080/"
        },
        "id": "AiCIl8FnvQQj",
        "outputId": "b2b07fdf-622d-47fa-9511-2567a9d5c3da"
      },
      "execution_count": null,
      "outputs": [
        {
          "output_type": "stream",
          "name": "stdout",
          "text": [
            "Drive already mounted at /content/drive; to attempt to forcibly remount, call drive.mount(\"/content/drive\", force_remount=True).\n"
          ]
        }
      ]
    },
    {
      "cell_type": "code",
      "source": [
        "import pandas as pd\n",
        "import sys"
      ],
      "metadata": {
        "id": "vrLda4qmubks"
      },
      "execution_count": null,
      "outputs": []
    },
    {
      "cell_type": "code",
      "source": [
        "train1 = pd.read_excel('/content/drive/Shareddrives/R&E/감성대화말뭉치(최종데이터)_Training/감성대화말뭉치(최종데이터)_Training.xlsx', header = None, skiprows=1, usecols = \"F,H\", names = ['감정','문장'])\n",
        "train2 = pd.read_excel('/content/drive/Shareddrives/R&E/감성대화말뭉치(최종데이터)_Training/감성대화말뭉치(최종데이터)_Training.xlsx', header = None, skiprows=1, usecols = \"F,I\", names = ['감정','문장'])\n",
        "train3 = pd.read_excel('/content/drive/Shareddrives/R&E/감성대화말뭉치(최종데이터)_Training/감성대화말뭉치(최종데이터)_Training.xlsx', header = None, skiprows=1, usecols = \"F,J\", names = ['감정','문장'])\n",
        "train4 = pd.read_excel('/content/drive/Shareddrives/R&E/감성대화말뭉치(최종데이터)_Training/감성대화말뭉치(최종데이터)_Training.xlsx', header = None, skiprows=1, usecols = \"F,K\", names = ['감정','문장'])\n",
        "train5 = pd.read_excel('/content/drive/Shareddrives/R&E/감성대화말뭉치(최종데이터)_Training/감성대화말뭉치(최종데이터)_Training.xlsx', header = None, skiprows=1, usecols = \"F,L\", names = ['감정','문장'])\n",
        "train6 = pd.read_excel('/content/drive/Shareddrives/R&E/감성대화말뭉치(최종데이터)_Training/감성대화말뭉치(최종데이터)_Training.xlsx', header = None, skiprows=1, usecols = \"F,M\", names = ['감정','문장'])\n",
        "train7 = pd.read_excel('/content/drive/Shareddrives/R&E/감성대화말뭉치(최종데이터)_Training/감성대화말뭉치(최종데이터)_Training.xlsx', header = None, skiprows=1, usecols = \"F,N\", names = ['감정','문장'])\n",
        "train8 = pd.read_excel('/content/drive/Shareddrives/R&E/감성대화말뭉치(최종데이터)_Training/감성대화말뭉치(최종데이터)_Training.xlsx', header = None, skiprows=1, usecols = \"F,O\", names = ['감정','문장'])\n",
        "\n",
        "train1 = train1.dropna()\n",
        "train2 = train2.dropna()\n",
        "train3 = train3.dropna()\n",
        "train4 = train4.dropna()\n",
        "train5 = train5.dropna()\n",
        "train6 = train6.dropna()\n",
        "train7 = train7.dropna()\n",
        "train8 = train8.dropna()\n",
        "\n",
        "#print(train1)\n",
        "#print(train2)\n",
        "#print(train3)\n",
        "#print(train4)\n",
        "#print(train5)\n",
        "#print(train6)\n",
        "#print(train7)\n",
        "#print(train8)"
      ],
      "metadata": {
        "id": "Jl6JU2aKwoYB"
      },
      "execution_count": null,
      "outputs": []
    },
    {
      "cell_type": "code",
      "source": [
        "train_data = pd.concat([train1, train2, train3, train4, train5, train6, train7, train8], ignore_index=True)\n",
        "#print(train_data)"
      ],
      "metadata": {
        "id": "8eY2omwNoc4a"
      },
      "execution_count": null,
      "outputs": []
    },
    {
      "cell_type": "code",
      "source": [
        "train = train_data.groupby('감정')\n",
        "#print(train.size())"
      ],
      "metadata": {
        "id": "hT8vOX6hsQHP"
      },
      "execution_count": null,
      "outputs": []
    },
    {
      "cell_type": "code",
      "source": [
        "train_happy = train.get_group('기쁨')\n",
        "train_embarrassment = train.get_group('당황')\n",
        "train_anger = train.get_group('분노')\n",
        "train_anxiety = train.get_group('불안')\n",
        "train_hurt = train.get_group('상처')\n",
        "train_sadness = train.get_group('슬픔')\n",
        "\n",
        "#print(train_happy)\n",
        "#print(train_embarrassment)\n",
        "#print(train_anxiety)\n",
        "#print(train_anger)\n",
        "#print(train_hurt)\n",
        "#print(train_sadness)"
      ],
      "metadata": {
        "id": "iiLVJr0tyBBw"
      },
      "execution_count": null,
      "outputs": []
    },
    {
      "cell_type": "code",
      "source": [
        "#train_happy, train_embarrassment, train_anxiety, train_anger, train_hurt, train_sadness\n",
        "train_happy.to_csv('/content/drive/Shareddrives/R&E/dataset/train_happy.csv', encoding='utf-8')\n",
        "train_embarrassment.to_csv('/content/drive/Shareddrives/R&E/dataset/train_embarrassment.csv', encoding='utf-8')\n",
        "train_anxiety.to_csv('/content/drive/Shareddrives/R&E/dataset/train_anxiety.csv', encoding='utf-8')\n",
        "train_anger.to_csv('/content/drive/Shareddrives/R&E/dataset/train_anger.csv', encoding='utf-8')\n",
        "train_hurt.to_csv('/content/drive/Shareddrives/R&E/dataset/train_hurt.csv', encoding='utf-8')\n",
        "train_sadness.to_csv('/content/drive/Shareddrives/R&E/dataset/train_sadness.csv', encoding='utf-8')"
      ],
      "metadata": {
        "id": "srnX2FVgwYog"
      },
      "execution_count": null,
      "outputs": []
    },
    {
      "cell_type": "code",
      "source": [
        "test1 = pd.read_excel('/content/drive/Shareddrives/R&E/감성대화말뭉치(최종데이터)_Validation/감성대화말뭉치(최종데이터)_Validation.xlsx', header = None, skiprows=1, usecols = \"F,H\", names = ['감정','문장'])\n",
        "test2 = pd.read_excel('/content/drive/Shareddrives/R&E/감성대화말뭉치(최종데이터)_Validation/감성대화말뭉치(최종데이터)_Validation.xlsx', header = None, skiprows=1, usecols = \"F,I\", names = ['감정','문장'])\n",
        "test3 = pd.read_excel('/content/drive/Shareddrives/R&E/감성대화말뭉치(최종데이터)_Validation/감성대화말뭉치(최종데이터)_Validation.xlsx', header = None, skiprows=1, usecols = \"F,J\", names = ['감정','문장'])\n",
        "test4 = pd.read_excel('/content/drive/Shareddrives/R&E/감성대화말뭉치(최종데이터)_Validation/감성대화말뭉치(최종데이터)_Validation.xlsx', header = None, skiprows=1, usecols = \"F,K\", names = ['감정','문장'])\n",
        "test5 = pd.read_excel('/content/drive/Shareddrives/R&E/감성대화말뭉치(최종데이터)_Validation/감성대화말뭉치(최종데이터)_Validation.xlsx', header = None, skiprows=1, usecols = \"F,L\", names = ['감정','문장'])\n",
        "test6 = pd.read_excel('/content/drive/Shareddrives/R&E/감성대화말뭉치(최종데이터)_Validation/감성대화말뭉치(최종데이터)_Validation.xlsx', header = None, skiprows=1, usecols = \"F,M\", names = ['감정','문장'])\n",
        "test7 = pd.read_excel('/content/drive/Shareddrives/R&E/감성대화말뭉치(최종데이터)_Validation/감성대화말뭉치(최종데이터)_Validation.xlsx', header = None, skiprows=1, usecols = \"F,N\", names = ['감정','문장'])\n",
        "test8 = pd.read_excel('/content/drive/Shareddrives/R&E/감성대화말뭉치(최종데이터)_Validation/감성대화말뭉치(최종데이터)_Validation.xlsx', header = None, skiprows=1, usecols = \"F,O\", names = ['감정','문장'])\n",
        "\n",
        "test1 = test1.dropna()\n",
        "test2 = test2.dropna()\n",
        "test3 = test3.dropna()\n",
        "test4 = test4.dropna()\n",
        "test5 = test5.dropna()\n",
        "test6 = test6.dropna()\n",
        "test7 = test7.dropna()\n",
        "test8 = test8.dropna()\n",
        "\n",
        "test_data = pd.concat([test1, test2, test3, test4, test5, test6, test7, test8], ignore_index=True)\n",
        "\n",
        "test_data.to_csv('/content/drive/Shareddrives/R&E/dataset/test_dataset.csv', encoding='utf-8')"
      ],
      "metadata": {
        "id": "C-UvS8i9F3Oy"
      },
      "execution_count": null,
      "outputs": []
    }
  ]
}
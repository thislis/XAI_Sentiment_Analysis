{
  "cells": [
    {
      "cell_type": "markdown",
      "metadata": {
        "id": "view-in-github",
        "colab_type": "text"
      },
      "source": [
        "<a href=\"https://colab.research.google.com/github/thislis/XAI_Sentiment_Analysis/blob/main/R%26E_main_anger_lstm2028.ipynb\" target=\"_parent\"><img src=\"https://colab.research.google.com/assets/colab-badge.svg\" alt=\"Open In Colab\"/></a>"
      ]
    },
    {
      "cell_type": "markdown",
      "source": [
        "anger 약 20.28% 정확도 0.8403"
      ],
      "metadata": {
        "id": "lfWrNID63Vym"
      }
    },
    {
      "cell_type": "markdown",
      "source": [
        "코드 참조\n",
        "1. https://keras.io/api/layers/recurrent_layers/bidirectional/\n"
      ],
      "metadata": {
        "id": "gvzvwonsj0RY"
      }
    },
    {
      "cell_type": "code",
      "source": [
        "!git clone https://github.com/SOMJANG/Mecab-ko-for-Google-Colab.git\n",
        "%cd Mecab-ko-for-Google-Colab\n",
        "!bash install_mecab-ko_on_colab190912.sh"
      ],
      "metadata": {
        "id": "2w1AdaumcgdE"
      },
      "execution_count": null,
      "outputs": []
    },
    {
      "cell_type": "code",
      "source": [
        "from google.colab import drive\n",
        "drive.mount('/content/drive')"
      ],
      "metadata": {
        "id": "Z2F2I53NdVnd",
        "colab": {
          "base_uri": "https://localhost:8080/"
        },
        "outputId": "7bc79f18-a9b3-4955-864a-d835f55e063b"
      },
      "execution_count": 2,
      "outputs": [
        {
          "output_type": "stream",
          "name": "stdout",
          "text": [
            "Mounted at /content/drive\n"
          ]
        }
      ]
    },
    {
      "cell_type": "code",
      "source": [
        "#텍스트 전처리\n",
        "import pandas as pd\n",
        "import numpy as np\n",
        "import matplotlib.pyplot as plt\n",
        "import urllib.request\n",
        "from collections import Counter\n",
        "from konlpy.tag import Mecab\n",
        "from sklearn.model_selection import train_test_split\n",
        "from tensorflow.keras.preprocessing.text import Tokenizer\n",
        "from tensorflow.keras.preprocessing.sequence import pad_sequences\n",
        "\n",
        "#모델링\n",
        "import re\n",
        "from tensorflow.keras.layers import Embedding, Dense, LSTM, Bidirectional\n",
        "from tensorflow.keras.models import Sequential\n",
        "from tensorflow.keras.models import load_model\n",
        "from tensorflow.keras.callbacks import EarlyStopping, ModelCheckpoint"
      ],
      "metadata": {
        "id": "_OOfM44ecqdP"
      },
      "execution_count": 3,
      "outputs": []
    },
    {
      "cell_type": "code",
      "source": [
        "train1 = pd.read_csv('/content/drive/Shareddrives/R&E/dataset/train_anger.csv', names=['감정', '문장'], skiprows=1)\n",
        "train2 = pd.read_csv('/content/drive/Shareddrives/R&E/dataset/train_anxiety.csv', names=['감정', '문장'], skiprows=1)\n",
        "train3 = pd.read_csv('/content/drive/Shareddrives/R&E/dataset/train_embarrassment.csv', names=['감정', '문장'], skiprows=1)\n",
        "train4 = pd.read_csv('/content/drive/Shareddrives/R&E/dataset/train_happy.csv', names=['감정', '문장'], skiprows=1)\n",
        "train5 = pd.read_csv('/content/drive/Shareddrives/R&E/dataset/train_happy.csv', names=['감정', '문장'], skiprows=1)\n",
        "train6 = pd.read_csv('/content/drive/Shareddrives/R&E/dataset/train_sadness.csv', names=['감정', '문장'], skiprows=1)\n",
        "train_anger_data = pd.concat([train1, train2, train3, train4, train5, train6], ignore_index=True)\n",
        "\n",
        "train_anger_data.drop_duplicates(subset=['문장'], inplace=True) #중복 제거\n",
        "def t_2_01(text):\n",
        "  if text == \"분노\":\n",
        "    return 1\n",
        "  else:\n",
        "    return 0\n",
        "train_anger_data['감정'] = train_anger_data['감정'].apply(t_2_01)\n",
        "\n",
        "print('전체 문장 개수 :',len(train_anger_data))\n",
        "print(len(train_anger_data.loc[train_anger_data['감정'] == 1]))"
      ],
      "metadata": {
        "id": "mKt5MfB2ctUs",
        "colab": {
          "base_uri": "https://localhost:8080/"
        },
        "outputId": "18de5921-3d33-4a6c-8e1a-13e427795cd1"
      },
      "execution_count": 4,
      "outputs": [
        {
          "output_type": "stream",
          "name": "stdout",
          "text": [
            "전체 문장 개수 : 182369\n",
            "36995\n"
          ]
        }
      ]
    },
    {
      "cell_type": "code",
      "source": [
        "test_anger_data = pd.read_csv('/content/drive/Shareddrives/R&E/dataset/test_dataset.csv', names=['감정', '문장'], skiprows=1)\n",
        "test_anger_data.drop_duplicates(subset=['문장'], inplace=True) #중복 제거\n",
        "def t_2_01(text):\n",
        "  if text == \"분노\":\n",
        "    return 1\n",
        "  else:\n",
        "    return 0\n",
        "test_anger_data['감정'] = test_anger_data['감정'].apply(t_2_01)\n",
        "#print(test_anger_data)"
      ],
      "metadata": {
        "id": "X4PQ2w3ghdcy"
      },
      "execution_count": 5,
      "outputs": []
    },
    {
      "cell_type": "code",
      "source": [
        "train_anger_data['문장'] = train_anger_data['문장'].str.replace(\"[^ㄱ-ㅎㅏ-ㅣ가-힣 ]\",\"\") #정규 표현식 수행\n",
        "train_anger_data['문장'].replace('', np.nan, inplace=True) #공백은 Null 값으로 변경\n",
        "#print(train_anger_data.isnull().sum())"
      ],
      "metadata": {
        "id": "Cro8Od-Nj_2q",
        "colab": {
          "base_uri": "https://localhost:8080/"
        },
        "outputId": "f21ee168-9233-4414-f21e-7c857c2d1921"
      },
      "execution_count": 6,
      "outputs": [
        {
          "output_type": "stream",
          "name": "stderr",
          "text": [
            "/usr/local/lib/python3.7/dist-packages/ipykernel_launcher.py:1: FutureWarning: The default value of regex will change from True to False in a future version.\n",
            "  \"\"\"Entry point for launching an IPython kernel.\n"
          ]
        }
      ]
    },
    {
      "cell_type": "code",
      "source": [
        "test_anger_data['문장'] = test_anger_data['문장'].str.replace(\"[^ㄱ-ㅎㅏ-ㅣ가-힣 ]\",\"\")\n",
        "test_anger_data['문장'].replace('', np.nan, inplace=True)\n",
        "test_anger_data = test_anger_data.dropna(how='any')\n",
        "#print(len(test_anger_data))"
      ],
      "metadata": {
        "id": "Fmmqm2tjnboP",
        "colab": {
          "base_uri": "https://localhost:8080/"
        },
        "outputId": "9bc53fa1-7fa9-475b-9ce1-4508d9aeb7ea"
      },
      "execution_count": 7,
      "outputs": [
        {
          "output_type": "stream",
          "name": "stderr",
          "text": [
            "/usr/local/lib/python3.7/dist-packages/ipykernel_launcher.py:1: FutureWarning: The default value of regex will change from True to False in a future version.\n",
            "  \"\"\"Entry point for launching an IPython kernel.\n"
          ]
        }
      ]
    },
    {
      "cell_type": "code",
      "source": [
        "anger_data = pd.concat([train_anger_data, test_anger_data], ignore_index=True)\n",
        "train_anger_data, test_anger_data = train_test_split(anger_data, test_size = 0.25, random_state = 42)\n",
        "print('훈련용 :', len(train_anger_data))\n",
        "print('테스트용 :', len(test_anger_data))"
      ],
      "metadata": {
        "id": "6DYz7ulBxWCn",
        "colab": {
          "base_uri": "https://localhost:8080/"
        },
        "outputId": "f982c579-43e1-47d7-9f18-9a3445c02fd3"
      },
      "execution_count": 8,
      "outputs": [
        {
          "output_type": "stream",
          "name": "stdout",
          "text": [
            "훈련용 : 158030\n",
            "테스트용 : 52677\n"
          ]
        }
      ]
    },
    {
      "cell_type": "code",
      "source": [
        "stopwords = ['도', '는', '다', '의', '가', '이', '은', '한', '에', '하', '고', '을', '를', '인', '듯', '과', '와', '네', '들', '듯', '지', '임', '게', '만', '되', '음', '면']"
      ],
      "metadata": {
        "id": "EJDVB81GoM1S"
      },
      "execution_count": 9,
      "outputs": []
    },
    {
      "cell_type": "code",
      "source": [
        "mecab = Mecab() \n",
        "\n",
        "train_anger_data['tokenized'] = train_anger_data['문장'].apply(mecab.morphs)\n",
        "train_anger_data['tokenized'] = train_anger_data['tokenized'].apply(lambda x: [item for item in x if item not in stopwords])\n",
        "test_anger_data['tokenized'] = test_anger_data['문장'].apply(mecab.morphs)\n",
        "test_anger_data['tokenized'] = test_anger_data['tokenized'].apply(lambda x: [item for item in x if item not in stopwords])"
      ],
      "metadata": {
        "id": "dDsW_bOsopyS"
      },
      "execution_count": 10,
      "outputs": []
    },
    {
      "cell_type": "code",
      "source": [
        "positive_words = np.hstack(train_anger_data[train_anger_data.감정 == 1]['tokenized'].values)\n",
        "positive_word_count = Counter(positive_words)\n",
        "#print(positive_word_count.most_common(20))"
      ],
      "metadata": {
        "id": "yzXC336ppCFO"
      },
      "execution_count": 11,
      "outputs": []
    },
    {
      "cell_type": "code",
      "source": [
        "X_train = train_anger_data['tokenized'].values\n",
        "y_train = train_anger_data['감정'].values\n",
        "X_test= test_anger_data['tokenized'].values\n",
        "y_test = test_anger_data['감정'].values"
      ],
      "metadata": {
        "id": "LxB39pj-s-3r"
      },
      "execution_count": 12,
      "outputs": []
    },
    {
      "cell_type": "code",
      "source": [
        "tokenizer = Tokenizer()\n",
        "tokenizer.fit_on_texts(X_train)"
      ],
      "metadata": {
        "id": "A8-2TGgttnBr"
      },
      "execution_count": 13,
      "outputs": []
    },
    {
      "cell_type": "code",
      "source": [
        "threshold = 2\n",
        "total_cnt = len(tokenizer.word_index) #단어 수\n",
        "rare_cnt = 0 #등장 빈도수가 threshold보다 작은 단어의 개수를 카운트\n",
        "total_freq = 0 #훈련 데이터의 전체 단어 빈도수 총 합\n",
        "rare_freq = 0 #등장 빈도수가 threshold보다 작은 단어의 등장 빈도수의 총 합\n",
        "\n",
        "#(단어, 빈도수)쌍(pair)을 key와 value로 받음.\n",
        "for key, value in tokenizer.word_counts.items():\n",
        "    total_freq = total_freq + value\n",
        "\n",
        "    if(value < threshold):\n",
        "        rare_cnt = rare_cnt + 1\n",
        "        rare_freq = rare_freq + value\n",
        "\n",
        "vocab_size = total_cnt - rare_cnt + 2"
      ],
      "metadata": {
        "id": "Tk0lsuRHtvXb"
      },
      "execution_count": 14,
      "outputs": []
    },
    {
      "cell_type": "code",
      "source": [
        "tokenizer = Tokenizer(vocab_size, oov_token = 'OOV') \n",
        "tokenizer.fit_on_texts(X_train)\n",
        "X_train = tokenizer.texts_to_sequences(X_train)\n",
        "X_test = tokenizer.texts_to_sequences(X_test)"
      ],
      "metadata": {
        "id": "LcMJU_VruKLW"
      },
      "execution_count": 15,
      "outputs": []
    },
    {
      "cell_type": "code",
      "source": [
        "#def below_threshold_len(max_len, nested_list):\n",
        "#  count = 0\n",
        "#  for sentence in nested_list:\n",
        "#    if(len(sentence) <= max_len):\n",
        "#        count = count + 1\n",
        "#  print('전체 샘플 중 길이가 %s 이하인 샘플의 비율: %s'%(max_len, (count / len(nested_list))*100))\n",
        "#below_threshold_len(max_len, X_train)\n",
        "\n",
        "max_len = 35"
      ],
      "metadata": {
        "id": "rwY_j2LOuY_4"
      },
      "execution_count": 16,
      "outputs": []
    },
    {
      "cell_type": "code",
      "source": [
        "X_train = pad_sequences(X_train, maxlen=max_len)\n",
        "X_test = pad_sequences(X_test, maxlen=max_len)"
      ],
      "metadata": {
        "id": "uKDscOKqu53S"
      },
      "execution_count": 17,
      "outputs": []
    },
    {
      "cell_type": "code",
      "source": [
        "embedding_dim = 100\n",
        "hidden_units = 128\n",
        "\n",
        "model = Sequential()\n",
        "model.add(Embedding(vocab_size, embedding_dim))\n",
        "model.add(Bidirectional(LSTM(hidden_units))) # Bidirectional LSTM\n",
        "model.add(Dense(1, activation='sigmoid'))\n",
        "\n",
        "es = EarlyStopping(monitor='val_loss', mode='min', verbose=1, patience=4)\n",
        "mc = ModelCheckpoint('best_model.h5', monitor='val_acc', mode='max', verbose=1, save_best_only=True)\n",
        "\n",
        "model.compile(optimizer='rmsprop', loss='binary_crossentropy', metrics=['acc'])\n",
        "history = model.fit(X_train, y_train, epochs=15, callbacks=[es, mc], batch_size=128, validation_split=0.2)"
      ],
      "metadata": {
        "id": "L7oZJ59Vvarj",
        "colab": {
          "base_uri": "https://localhost:8080/"
        },
        "outputId": "86477811-427b-4719-b021-c5e1681fe35d"
      },
      "execution_count": 18,
      "outputs": [
        {
          "output_type": "stream",
          "name": "stdout",
          "text": [
            "Epoch 1/15\n",
            "983/988 [============================>.] - ETA: 0s - loss: 0.4166 - acc: 0.8311\n",
            "Epoch 1: val_acc improved from -inf to 0.83671, saving model to best_model.h5\n",
            "988/988 [==============================] - 19s 11ms/step - loss: 0.4164 - acc: 0.8312 - val_loss: 0.4013 - val_acc: 0.8367\n",
            "Epoch 2/15\n",
            "988/988 [==============================] - ETA: 0s - loss: 0.3862 - acc: 0.8419\n",
            "Epoch 2: val_acc improved from 0.83671 to 0.83927, saving model to best_model.h5\n",
            "988/988 [==============================] - 9s 10ms/step - loss: 0.3862 - acc: 0.8419 - val_loss: 0.3937 - val_acc: 0.8393\n",
            "Epoch 3/15\n",
            "987/988 [============================>.] - ETA: 0s - loss: 0.3762 - acc: 0.8464\n",
            "Epoch 3: val_acc improved from 0.83927 to 0.84212, saving model to best_model.h5\n",
            "988/988 [==============================] - 10s 10ms/step - loss: 0.3762 - acc: 0.8464 - val_loss: 0.3898 - val_acc: 0.8421\n",
            "Epoch 4/15\n",
            "984/988 [============================>.] - ETA: 0s - loss: 0.3691 - acc: 0.8507\n",
            "Epoch 4: val_acc did not improve from 0.84212\n",
            "988/988 [==============================] - 9s 9ms/step - loss: 0.3691 - acc: 0.8507 - val_loss: 0.3935 - val_acc: 0.8372\n",
            "Epoch 5/15\n",
            "986/988 [============================>.] - ETA: 0s - loss: 0.3634 - acc: 0.8534\n",
            "Epoch 5: val_acc did not improve from 0.84212\n",
            "988/988 [==============================] - 10s 10ms/step - loss: 0.3635 - acc: 0.8534 - val_loss: 0.3920 - val_acc: 0.8390\n",
            "Epoch 6/15\n",
            "987/988 [============================>.] - ETA: 0s - loss: 0.3581 - acc: 0.8555\n",
            "Epoch 6: val_acc did not improve from 0.84212\n",
            "988/988 [==============================] - 9s 9ms/step - loss: 0.3581 - acc: 0.8554 - val_loss: 0.3992 - val_acc: 0.8322\n",
            "Epoch 7/15\n",
            "983/988 [============================>.] - ETA: 0s - loss: 0.3528 - acc: 0.8576\n",
            "Epoch 7: val_acc did not improve from 0.84212\n",
            "988/988 [==============================] - 10s 10ms/step - loss: 0.3528 - acc: 0.8576 - val_loss: 0.3970 - val_acc: 0.8381\n",
            "Epoch 7: early stopping\n"
          ]
        }
      ]
    },
    {
      "cell_type": "code",
      "source": [
        "loaded_model = load_model('best_model.h5')\n",
        "print(\"테스트 정확도: %.4f\" % (loaded_model.evaluate(X_test, y_test)[1]))"
      ],
      "metadata": {
        "id": "SPZSLLG0w1e2",
        "colab": {
          "base_uri": "https://localhost:8080/"
        },
        "outputId": "33bf5596-ab15-463e-bdc9-4e15cd40363d"
      },
      "execution_count": 19,
      "outputs": [
        {
          "output_type": "stream",
          "name": "stdout",
          "text": [
            "1647/1647 [==============================] - 6s 3ms/step - loss: 0.3918 - acc: 0.8403\n",
            "테스트 정확도: 0.8403\n"
          ]
        }
      ]
    }
  ],
  "metadata": {
    "accelerator": "GPU",
    "colab": {
      "background_execution": "on",
      "collapsed_sections": [],
      "machine_shape": "hm",
      "name": "R&E_main",
      "provenance": [],
      "include_colab_link": true
    },
    "gpuClass": "standard",
    "kernelspec": {
      "display_name": "Python 3",
      "name": "python3"
    },
    "language_info": {
      "name": "python"
    }
  },
  "nbformat": 4,
  "nbformat_minor": 0
}
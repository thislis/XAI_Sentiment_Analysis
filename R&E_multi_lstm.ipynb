{
  "cells": [
    {
      "cell_type": "markdown",
      "metadata": {
        "id": "view-in-github",
        "colab_type": "text"
      },
      "source": [
        "<a href=\"https://colab.research.google.com/github/thislis/XAI_Sentiment_Analysis/blob/main/R%26E_multi_lstm.ipynb\" target=\"_parent\"><img src=\"https://colab.research.google.com/assets/colab-badge.svg\" alt=\"Open In Colab\"/></a>"
      ]
    },
    {
      "cell_type": "markdown",
      "metadata": {
        "id": "DC_4-1qHARsb"
      },
      "source": [
        "github : https://github.com/thislis/XAI_Sentiment_Analysis/tree/main  \n",
        "링크된 github에 데이터 출처 및 재가공에 쓰인 코드, 실험도구 정보와 실험중에 사용된 코드들이 첨부되어 있습니다."
      ]
    },
    {
      "cell_type": "code",
      "execution_count": null,
      "metadata": {
        "id": "3tpJm4OOA2Dm"
      },
      "outputs": [],
      "source": [
        "#필요한 도구들 다운로드\n",
        "\n",
        "!git clone https://github.com/SOMJANG/Mecab-ko-for-Google-Colab.git\n",
        "%cd Mecab-ko-for-Google-Colab\n",
        "!bash install_mecab-ko_on_colab190912.sh\n",
        "!pip install lime"
      ]
    },
    {
      "cell_type": "code",
      "execution_count": null,
      "metadata": {
        "id": "qd1iUMnPB6eH"
      },
      "outputs": [],
      "source": [
        "#구글 드라이브 마운트\n",
        "\n",
        "from google.colab import drive\n",
        "drive.mount('/content/drive')"
      ]
    },
    {
      "cell_type": "code",
      "execution_count": null,
      "metadata": {
        "id": "xill4t7MCXST"
      },
      "outputs": [],
      "source": [
        "#필요 모듈 임포팅\n",
        "\n",
        "#텍스트 전처리\n",
        "import pandas as pd\n",
        "import numpy as np\n",
        "import matplotlib.pyplot as plt\n",
        "import urllib.request\n",
        "from collections import Counter\n",
        "from konlpy.tag import Mecab\n",
        "from sklearn.model_selection import train_test_split\n",
        "from tensorflow.keras.preprocessing.text import Tokenizer\n",
        "from tensorflow.keras.preprocessing.sequence import pad_sequences\n",
        "\n",
        "#모델링\n",
        "import re\n",
        "from tensorflow.keras.layers import Embedding, Dense, LSTM, Bidirectional\n",
        "from tensorflow.keras.models import Sequential\n",
        "from tensorflow.keras.models import load_model\n",
        "from tensorflow.keras.callbacks import EarlyStopping, ModelCheckpoint\n",
        "\n",
        "#XAI_LIME\n",
        "from lime.lime_text import LimeTextExplainer"
      ]
    },
    {
      "cell_type": "code",
      "execution_count": null,
      "metadata": {
        "id": "blqrN31XH8-7"
      },
      "outputs": [],
      "source": [
        "#데이터 로드\n",
        "\n",
        "train1 = pd.read_csv('/content/drive/Shareddrives/R&E/dataset/train_anger.csv', names=['감정', '문장'], skiprows=1)\n",
        "train2 = pd.read_csv('/content/drive/Shareddrives/R&E/dataset/train_anxiety.csv', names=['감정', '문장'], skiprows=1)\n",
        "train3 = pd.read_csv('/content/drive/Shareddrives/R&E/dataset/train_embarrassment.csv', names=['감정', '문장'], skiprows=1)\n",
        "train4 = pd.read_csv('/content/drive/Shareddrives/R&E/dataset/train_happy.csv', names=['감정', '문장'], skiprows=1)\n",
        "train5 = pd.read_csv('/content/drive/Shareddrives/R&E/dataset/train_hurt.csv', names=['감정', '문장'], skiprows=1)\n",
        "train6 = pd.read_csv('/content/drive/Shareddrives/R&E/dataset/train_sadness.csv', names=['감정', '문장'], skiprows=1)\n",
        "train_data = pd.concat([train1, train2, train3, train4, train5, train6], ignore_index=True)\n",
        "train_data.drop_duplicates(subset=['문장'], inplace=True) #중복 제거\n",
        "\n",
        "test_data = pd.read_csv('/content/drive/Shareddrives/R&E/dataset/test_dataset.csv', names=['감정', '문장'], skiprows=1)\n",
        "test_data.drop_duplicates(subset=['문장'], inplace=True) #중복 제거"
      ]
    },
    {
      "cell_type": "code",
      "execution_count": null,
      "metadata": {
        "id": "T4wrIcTN9Wjp"
      },
      "outputs": [],
      "source": [
        "#정규 표현식 수행 및 공백을 Null값으로 변경\n",
        "\n",
        "train_data['문장'] = train_data['문장'].str.replace(\"[^ㄱ-ㅎㅏ-ㅣ가-힣 ]\",\"\")\n",
        "train_data['문장'].replace('', np.nan, inplace=True)\n",
        "test_data['문장'] = test_data['문장'].str.replace(\"[^ㄱ-ㅎㅏ-ㅣ가-힣 ]\",\"\")\n",
        "test_data['문장'].replace('', np.nan, inplace=True)\n",
        "tes_data = test_data.dropna(how='any')"
      ]
    },
    {
      "cell_type": "code",
      "execution_count": null,
      "metadata": {
        "id": "-U9w89Nj3YpI"
      },
      "outputs": [],
      "source": [
        "#불용어 정의\n",
        "stopwords = ['도', '는', '다', '의', '가', '이', '은', '한', '에', '하', '고', '을', '를', '인', '듯', '과', '와', '네', '들', '듯', '지', '임', '게', '만', '되', '음', '면']"
      ]
    },
    {
      "cell_type": "code",
      "execution_count": null,
      "metadata": {
        "id": "tw2XCpAX9rVz"
      },
      "outputs": [],
      "source": [
        "#토큰화\n",
        "\n",
        "mecab = Mecab() \n",
        "\n",
        "train_data['tokenized'] = train_data['문장'].apply(mecab.morphs)\n",
        "train_data['tokenized'] = train_data['tokenized'].apply(lambda x: [item for item in x if item not in stopwords])\n",
        "test_data['tokenized'] = test_data['문장'].apply(mecab.morphs)\n",
        "test_data['tokenized'] = test_data['tokenized'].apply(lambda x: [item for item in x if item not in stopwords])"
      ]
    },
    {
      "cell_type": "code",
      "execution_count": null,
      "metadata": {
        "id": "aQvzagA_IYBD"
      },
      "outputs": [],
      "source": [
        "#감정 정보를 0 또는 1로 변환(예 : 분노 모델 학습 시 분노를 1, 나머지를 0) - 함수 정의\n",
        "\n",
        "def anger(text):\n",
        "  if text == \"분노\":\n",
        "    return 1\n",
        "  else:\n",
        "    return 0\n",
        "    \n",
        "def anxiety(text):\n",
        "  if text == \"불안\":\n",
        "    return 1\n",
        "  else:\n",
        "    return 0\n",
        "  \n",
        "def embarrassment(text):\n",
        "  if text == \"당황\":\n",
        "    return 1\n",
        "  else:\n",
        "    return 0\n",
        "\n",
        "def happy(text):\n",
        "  if text == \"기쁨\":\n",
        "    return 1\n",
        "  else:\n",
        "    return 0\n",
        "\n",
        "def hurt(text):\n",
        "  if text == \"상처\":\n",
        "    return 1\n",
        "  else:\n",
        "    return 0\n",
        "\n",
        "def sadness(text):\n",
        "  if text == \"슬픔\":\n",
        "    return 1\n",
        "  else:\n",
        "    return 0"
      ]
    },
    {
      "cell_type": "code",
      "execution_count": null,
      "metadata": {
        "id": "58vUm2UWJake"
      },
      "outputs": [],
      "source": [
        "#다중 감정 분석을 위하여 하나의 감정에 대한 이진 분류 모델을 여러개 생성 후 사용. 이를 위해 데이터 복사. 감정 정보를 0 또는 1로 변환(예 : 분노 모델 학습 시 분노를 1, 나머지를 0)\n",
        "\n",
        "train_anger_data = train_data.copy()\n",
        "train_anxiety_data = train_data.copy()\n",
        "train_embarrassment_data = train_data.copy()\n",
        "train_happy_data = train_data.copy()\n",
        "train_hurt_data = train_data.copy()\n",
        "train_sadness_data = train_data.copy()\n",
        "\n",
        "test_anger_data = test_data.copy()\n",
        "test_anxiety_data = test_data.copy()\n",
        "test_embarrassment_data = test_data.copy()\n",
        "test_happy_data = test_data.copy()\n",
        "test_hurt_data = test_data.copy()\n",
        "test_sadness_data = test_data.copy()\n",
        "\n",
        "train_anger_data['감정'] = train_data['감정'].apply(anger)\n",
        "test_anger_data['감정'] = test_data['감정'].apply(anger)\n",
        "train_anxiety_data['감정'] = train_data['감정'].apply(anxiety)\n",
        "test_anxiety_data['감정'] = test_data['감정'].apply(anxiety)\n",
        "train_embarrassment_data['감정'] = train_data['감정'].apply(embarrassment)\n",
        "test_embarrassment_data['감정'] = test_data['감정'].apply(embarrassment)\n",
        "train_happy_data['감정'] = train_data['감정'].apply(happy)\n",
        "test_happy_data['감정'] = test_data['감정'].apply(happy)\n",
        "train_hurt_data['감정'] = train_data['감정'].apply(hurt)\n",
        "test_hurt_data['감정'] = test_data['감정'].apply(hurt)\n",
        "test_sadness_data['감정'] = train_data['감정'].apply(sadness)\n",
        "train_sadness_data['감정'] = test_data['감정'].apply(sadness)"
      ]
    },
    {
      "cell_type": "code",
      "execution_count": null,
      "metadata": {
        "id": "KLQ_JkZ25eYi"
      },
      "outputs": [],
      "source": [
        "#데이터의 토큰화된 문장과 감정을 X, Y로 분리\n",
        "\n",
        "X_anger_train = train_anger_data['tokenized'].values\n",
        "y_anger_train = train_anger_data['감정'].values\n",
        "X_anger_test= test_anger_data['tokenized'].values\n",
        "y_anger_test = test_anger_data['감정'].values\n",
        "\n",
        "X_anxiety_train = train_anxiety_data['tokenized'].values\n",
        "y_anxiety_train = train_anxiety_data['감정'].values\n",
        "X_anxiety_test= test_anxiety_data['tokenized'].values\n",
        "y_anxiety_test = test_anxiety_data['감정'].values\n",
        "\n",
        "X_embarrassment_train = train_embarrassment_data['tokenized'].values\n",
        "y_embarrassment_train = train_embarrassment_data['감정'].values\n",
        "X_embarrassment_test= test_embarrassment_data['tokenized'].values\n",
        "y_embarrassment_test = test_embarrassment_data['감정'].values\n",
        "\n",
        "X_happy_train = train_happy_data['tokenized'].values\n",
        "y_happy_train = train_happy_data['감정'].values\n",
        "X_happy_test= test_happy_data['tokenized'].values\n",
        "y_happy_test = test_happy_data['감정'].values\n",
        "\n",
        "X_hurt_train = train_hurt_data['tokenized'].values\n",
        "y_hurt_train = train_hurt_data['감정'].values\n",
        "X_hurt_test= test_hurt_data['tokenized'].values\n",
        "y_hurt_test = test_hurt_data['감정'].values\n",
        "\n",
        "X_sadness_train = train_sadness_data['tokenized'].values\n",
        "y_sadness_train = train_sadness_data['감정'].values\n",
        "X_sadness_test= test_sadness_data['tokenized'].values\n",
        "y_sadness_test = test_sadness_data['감정'].values"
      ]
    },
    {
      "cell_type": "code",
      "execution_count": null,
      "metadata": {
        "id": "s02c0r0G4XES"
      },
      "outputs": [],
      "source": [
        "#lstm의 사용을 위한 문장의 최대 길이 구하기\n",
        "\n",
        "#def below_threshold_len(max_len, nested_list):\n",
        "#  count = 0\n",
        "#  for sentence in nested_list:\n",
        "#    if(len(sentence) <= max_len):\n",
        "#        count = count + 1\n",
        "#  print('전체 샘플 중 길이가 %s 이하인 샘플의 비율: %s'%(max_len, (count / len(nested_list))*100))\n",
        "#below_threshold_len(max_len, X_anger_train)\n",
        "\n",
        "max_len = 35"
      ]
    },
    {
      "cell_type": "code",
      "execution_count": null,
      "metadata": {
        "id": "xbWFb47tGDDq"
      },
      "outputs": [],
      "source": [
        "#분노 모델 학습\n",
        "\n",
        "tokenizer_anger = Tokenizer()\n",
        "tokenizer_anger.fit_on_texts(X_anger_train)\n",
        "\n",
        "threshold_anger = 2\n",
        "total_anger_cnt = len(tokenizer_anger.word_index) #단어 수\n",
        "rare_anger_cnt = 0 #등장 빈도수가 threshold보다 작은 단어의 개수를 카운트\n",
        "total_anger_freq = 0 #훈련 데이터의 전체 단어 빈도수 총 합\n",
        "rare_anger_freq = 0 #등장 빈도수가 threshold보다 작은 단어의 등장 빈도수의 총 합\n",
        "\n",
        "#(단어, 빈도수)쌍->key와 value\n",
        "for key, value in tokenizer_anger.word_counts.items():\n",
        "    total_anger_freq = total_anger_freq + value\n",
        "    if(value < threshold_anger):\n",
        "        rare_anger_cnt = rare_anger_cnt + 1\n",
        "        rare_anger_freq = rare_anger_freq + value\n",
        "\n",
        "vocab_anger_size = total_anger_cnt - rare_anger_cnt + 2\n",
        "\n",
        "tokenizer_anger = Tokenizer(vocab_anger_size, oov_token = 'OOV') \n",
        "tokenizer_anger.fit_on_texts(X_anger_train)\n",
        "X_anger_train = tokenizer_anger.texts_to_sequences(X_anger_train)\n",
        "X_anger_test = tokenizer_anger.texts_to_sequences(X_anger_test)\n",
        "\n",
        "X_anger_train = pad_sequences(X_anger_train, maxlen=max_len)\n",
        "X_anger_test = pad_sequences(X_anger_test, maxlen=max_len)\n",
        "\n",
        "embedding_dim = 100\n",
        "hidden_units = 128\n",
        "\n",
        "model_anger = Sequential()\n",
        "model_anger.add(Embedding(vocab_anger_size, embedding_dim))\n",
        "model_anger.add(Bidirectional(LSTM(hidden_units))) # Bidirectional LSTM\n",
        "model_anger.add(Dense(1, activation='sigmoid'))\n",
        "\n",
        "es_anger = EarlyStopping(monitor='val_loss', mode='min', verbose=1, patience=4)\n",
        "mc_anger = ModelCheckpoint('best_anger_model.h5', monitor='val_acc', mode='max', verbose=1, save_best_only=True)\n",
        "\n",
        "model_anger.compile(optimizer='rmsprop', loss='binary_crossentropy', metrics=['acc'])\n",
        "history_anger = model_anger.fit(X_anger_train, y_anger_train, epochs=15, callbacks=[es_anger, mc_anger], batch_size=128, validation_split=0.2)"
      ]
    },
    {
      "cell_type": "code",
      "execution_count": null,
      "metadata": {
        "id": "2uCFzDEw6JIn"
      },
      "outputs": [],
      "source": [
        "#불안 모델 학습\n",
        "\n",
        "tokenizer_anxiety = Tokenizer()\n",
        "tokenizer_anxiety.fit_on_texts(X_anxiety_train)\n",
        "\n",
        "threshold_anxiety = 2\n",
        "total_anxiety_cnt = len(tokenizer_anxiety.word_index) #단어 수\n",
        "rare_anxiety_cnt = 0 #등장 빈도수가 threshold보다 작은 단어의 개수를 카운트\n",
        "total_anxiety_freq = 0 #훈련 데이터의 전체 단어 빈도수 총 합\n",
        "rare_anxiety_freq = 0 #등장 빈도수가 threshold보다 작은 단어의 등장 빈도수의 총 합\n",
        "\n",
        "#(단어, 빈도수)쌍->key와 value\n",
        "for key, value in tokenizer_anxiety.word_counts.items():\n",
        "    total_anxiety_freq = total_anxiety_freq + value\n",
        "    if(value < threshold_anxiety):\n",
        "        rare_anxiety_cnt = rare_anxiety_cnt + 1\n",
        "        rare_anxiety_freq = rare_anxiety_freq + value\n",
        "\n",
        "vocab_anxiety_size = total_anxiety_cnt - rare_anxiety_cnt + 2\n",
        "\n",
        "tokenizer_anxiety = Tokenizer(vocab_anxiety_size, oov_token = 'OOV') \n",
        "tokenizer_anxiety.fit_on_texts(X_anxiety_train)\n",
        "X_anxiety_train = tokenizer_anxiety.texts_to_sequences(X_anxiety_train)\n",
        "X_anxiety_test = tokenizer_anxiety.texts_to_sequences(X_anxiety_test)\n",
        "\n",
        "X_anxiety_train = pad_sequences(X_anxiety_train, maxlen=max_len)\n",
        "X_anxiety_test = pad_sequences(X_anxiety_test, maxlen=max_len)\n",
        "\n",
        "embedding_dim = 100\n",
        "hidden_units = 128\n",
        "\n",
        "model_anxiety = Sequential()\n",
        "model_anxiety.add(Embedding(vocab_anxiety_size, embedding_dim))\n",
        "model_anxiety.add(Bidirectional(LSTM(hidden_units))) # Bidirectional LSTM\n",
        "model_anxiety.add(Dense(1, activation='sigmoid'))\n",
        "\n",
        "es_anxiety = EarlyStopping(monitor='val_loss', mode='min', verbose=1, patience=4)\n",
        "mc_anxiety = ModelCheckpoint('best_anxiety_model.h5', monitor='val_acc', mode='max', verbose=1, save_best_only=True)\n",
        "\n",
        "model_anxiety.compile(optimizer='rmsprop', loss='binary_crossentropy', metrics=['acc'])\n",
        "history_anxiety = model_anxiety.fit(X_anxiety_train, y_anxiety_train, epochs=15, callbacks=[es_anxiety, mc_anxiety], batch_size=128, validation_split=0.2)"
      ]
    },
    {
      "cell_type": "code",
      "execution_count": null,
      "metadata": {
        "id": "ULSVeW_c6KAr"
      },
      "outputs": [],
      "source": [
        "#당황 모델 학습\n",
        "\n",
        "tokenizer_embarrassment = Tokenizer()\n",
        "tokenizer_embarrassment.fit_on_texts(X_embarrassment_train)\n",
        "\n",
        "threshold_embarrassment = 2\n",
        "total_embarrassment_cnt = len(tokenizer_embarrassment.word_index) #단어 수\n",
        "rare_embarrassment_cnt = 0 #등장 빈도수가 threshold보다 작은 단어의 개수를 카운트\n",
        "total_embarrassment_freq = 0 #훈련 데이터의 전체 단어 빈도수 총 합\n",
        "rare_embarrassment_freq = 0 #등장 빈도수가 threshold보다 작은 단어의 등장 빈도수의 총 합\n",
        "\n",
        "#(단어, 빈도수)쌍->key와 value\n",
        "for key, value in tokenizer_embarrassment.word_counts.items():\n",
        "    total_embarrassment_freq = total_embarrassment_freq + value\n",
        "    if(value < threshold_embarrassment):\n",
        "        rare_embarrassment_cnt = rare_embarrassment_cnt + 1\n",
        "        rare_embarrassment_freq = rare_embarrassment_freq + value\n",
        "\n",
        "vocab_embarrassment_size = total_embarrassment_cnt - rare_embarrassment_cnt + 2\n",
        "\n",
        "tokenizer_embarrassment = Tokenizer(vocab_embarrassment_size, oov_token = 'OOV') \n",
        "tokenizer_embarrassment.fit_on_texts(X_embarrassment_train)\n",
        "X_embarrassment_train = tokenizer_embarrassment.texts_to_sequences(X_embarrassment_train)\n",
        "X_embarrassment_test = tokenizer_embarrassment.texts_to_sequences(X_embarrassment_test)\n",
        "\n",
        "X_embarrassment_train = pad_sequences(X_embarrassment_train, maxlen=max_len)\n",
        "X_embarrassment_test = pad_sequences(X_embarrassment_test, maxlen=max_len)\n",
        "\n",
        "embedding_dim = 100\n",
        "hidden_units = 128\n",
        "\n",
        "model_embarrassment = Sequential()\n",
        "model_embarrassment.add(Embedding(vocab_embarrassment_size, embedding_dim))\n",
        "model_embarrassment.add(Bidirectional(LSTM(hidden_units))) # Bidirectional LSTM\n",
        "model_embarrassment.add(Dense(1, activation='sigmoid'))\n",
        "\n",
        "es_embarrassment = EarlyStopping(monitor='val_loss', mode='min', verbose=1, patience=4)\n",
        "mc_embarrassment = ModelCheckpoint('best_embarrassment_model.h5', monitor='val_acc', mode='max', verbose=1, save_best_only=True)\n",
        "\n",
        "model_embarrassment.compile(optimizer='rmsprop', loss='binary_crossentropy', metrics=['acc'])\n",
        "history_embarrassment = model_embarrassment.fit(X_embarrassment_train, y_embarrassment_train, epochs=15, callbacks=[es_embarrassment, mc_embarrassment], batch_size=128, validation_split=0.2)"
      ]
    },
    {
      "cell_type": "code",
      "execution_count": null,
      "metadata": {
        "id": "_ntYVg_d6Kl7"
      },
      "outputs": [],
      "source": [
        "#기쁨 모델 학습\n",
        "\n",
        "tokenizer_happy = Tokenizer()\n",
        "tokenizer_happy.fit_on_texts(X_happy_train)\n",
        "\n",
        "threshold_happy = 2\n",
        "total_happy_cnt = len(tokenizer_happy.word_index) #단어 수\n",
        "rare_happy_cnt = 0 #등장 빈도수가 threshold보다 작은 단어의 개수를 카운트\n",
        "total_happy_freq = 0 #훈련 데이터의 전체 단어 빈도수 총 합\n",
        "rare_happy_freq = 0 #등장 빈도수가 threshold보다 작은 단어의 등장 빈도수의 총 합\n",
        "\n",
        "#(단어, 빈도수)쌍->key와 value\n",
        "for key, value in tokenizer_happy.word_counts.items():\n",
        "    total_happy_freq = total_happy_freq + value\n",
        "    if(value < threshold_happy):\n",
        "        rare_happy_cnt = rare_happy_cnt + 1\n",
        "        rare_happy_freq = rare_happy_freq + value\n",
        "\n",
        "vocab_happy_size = total_happy_cnt - rare_happy_cnt + 2\n",
        "\n",
        "tokenizer_happy = Tokenizer(vocab_happy_size, oov_token = 'OOV') \n",
        "tokenizer_happy.fit_on_texts(X_happy_train)\n",
        "X_happy_train = tokenizer_happy.texts_to_sequences(X_happy_train)\n",
        "X_happy_test = tokenizer_happy.texts_to_sequences(X_happy_test)\n",
        "\n",
        "X_happy_train = pad_sequences(X_happy_train, maxlen=max_len)\n",
        "X_happy_test = pad_sequences(X_happy_test, maxlen=max_len)\n",
        "\n",
        "embedding_dim = 100\n",
        "hidden_units = 128\n",
        "\n",
        "model_happy = Sequential()\n",
        "model_happy.add(Embedding(vocab_happy_size, embedding_dim))\n",
        "model_happy.add(Bidirectional(LSTM(hidden_units))) # Bidirectional LSTM\n",
        "model_happy.add(Dense(1, activation='sigmoid'))\n",
        "\n",
        "es_happy = EarlyStopping(monitor='val_loss', mode='min', verbose=1, patience=4)\n",
        "mc_happy = ModelCheckpoint('best_happy_model.h5', monitor='val_acc', mode='max', verbose=1, save_best_only=True)\n",
        "\n",
        "model_happy.compile(optimizer='rmsprop', loss='binary_crossentropy', metrics=['acc'])\n",
        "history_happy = model_happy.fit(X_happy_train, y_happy_train, epochs=15, callbacks=[es_happy, mc_happy], batch_size=128, validation_split=0.2)"
      ]
    },
    {
      "cell_type": "code",
      "execution_count": null,
      "metadata": {
        "id": "PIamjWyv6LcI"
      },
      "outputs": [],
      "source": [
        "#상처 모델 학습\n",
        "\n",
        "tokenizer_hurt = Tokenizer()\n",
        "tokenizer_hurt.fit_on_texts(X_hurt_train)\n",
        "\n",
        "threshold_hurt = 2\n",
        "total_hurt_cnt = len(tokenizer_hurt.word_index) #단어 수\n",
        "rare_hurt_cnt = 0 #등장 빈도수가 threshold보다 작은 단어의 개수를 카운트\n",
        "total_hurt_freq = 0 #훈련 데이터의 전체 단어 빈도수 총 합\n",
        "rare_hurt_freq = 0 #등장 빈도수가 threshold보다 작은 단어의 등장 빈도수의 총 합\n",
        "\n",
        "#(단어, 빈도수)쌍->key와 value\n",
        "for key, value in tokenizer_hurt.word_counts.items():\n",
        "    total_hurt_freq = total_hurt_freq + value\n",
        "    if(value < threshold_hurt):\n",
        "        rare_hurt_cnt = rare_hurt_cnt + 1\n",
        "        rare_hurt_freq = rare_hurt_freq + value\n",
        "\n",
        "vocab_hurt_size = total_hurt_cnt - rare_hurt_cnt + 2\n",
        "\n",
        "tokenizer_hurt = Tokenizer(vocab_hurt_size, oov_token = 'OOV') \n",
        "tokenizer_hurt.fit_on_texts(X_hurt_train)\n",
        "X_hurt_train = tokenizer_hurt.texts_to_sequences(X_hurt_train)\n",
        "X_hurt_test = tokenizer_hurt.texts_to_sequences(X_hurt_test)\n",
        "\n",
        "X_hurt_train = pad_sequences(X_hurt_train, maxlen=max_len)\n",
        "X_hurt_test = pad_sequences(X_hurt_test, maxlen=max_len)\n",
        "\n",
        "embedding_dim = 100\n",
        "hidden_units = 128\n",
        "\n",
        "model_hurt = Sequential()\n",
        "model_hurt.add(Embedding(vocab_hurt_size, embedding_dim))\n",
        "model_hurt.add(Bidirectional(LSTM(hidden_units))) # Bidirectional LSTM\n",
        "model_hurt.add(Dense(1, activation='sigmoid'))\n",
        "\n",
        "es_hurt = EarlyStopping(monitor='val_loss', mode='min', verbose=1, patience=4)\n",
        "mc_hurt = ModelCheckpoint('best_hurt_model.h5', monitor='val_acc', mode='max', verbose=1, save_best_only=True)\n",
        "\n",
        "model_hurt.compile(optimizer='rmsprop', loss='binary_crossentropy', metrics=['acc'])\n",
        "history_hurt = model_hurt.fit(X_hurt_train, y_hurt_train, epochs=15, callbacks=[es_hurt, mc_hurt], batch_size=128, validation_split=0.2)"
      ]
    },
    {
      "cell_type": "code",
      "execution_count": null,
      "metadata": {
        "id": "wquJX2V06LR8"
      },
      "outputs": [],
      "source": [
        "#슬픔 모델 학습\n",
        "\n",
        "tokenizer_sadness = Tokenizer()\n",
        "tokenizer_sadness.fit_on_texts(X_sadness_train)\n",
        "\n",
        "threshold_sadness = 2\n",
        "total_sadness_cnt = len(tokenizer_sadness.word_index) #단어 수\n",
        "rare_sadness_cnt = 0 #등장 빈도수가 threshold보다 작은 단어의 개수를 카운트\n",
        "total_sadness_freq = 0 #훈련 데이터의 전체 단어 빈도수 총 합\n",
        "rare_sadness_freq = 0 #등장 빈도수가 threshold보다 작은 단어의 등장 빈도수의 총 합\n",
        "\n",
        "#(단어, 빈도수)쌍->key와 value\n",
        "for key, value in tokenizer_sadness.word_counts.items():\n",
        "    total_sadness_freq = total_sadness_freq + value\n",
        "    if(value < threshold_sadness):\n",
        "        rare_sadness_cnt = rare_sadness_cnt + 1\n",
        "        rare_sadness_freq = rare_sadness_freq + value\n",
        "\n",
        "vocab_sadness_size = total_sadness_cnt - rare_sadness_cnt + 2\n",
        "\n",
        "tokenizer_sadness = Tokenizer(vocab_sadness_size, oov_token = 'OOV') \n",
        "tokenizer_sadness.fit_on_texts(X_sadness_train)\n",
        "X_sadness_train = tokenizer_sadness.texts_to_sequences(X_sadness_train)\n",
        "X_sadness_test = tokenizer_sadness.texts_to_sequences(X_sadness_test)\n",
        "\n",
        "X_sadness_train = pad_sequences(X_sadness_train, maxlen=max_len)\n",
        "X_sadness_test = pad_sequences(X_sadness_test, maxlen=max_len)\n",
        "\n",
        "embedding_dim = 100\n",
        "hidden_units = 128\n",
        "\n",
        "model_sadness = Sequential()\n",
        "model_sadness.add(Embedding(vocab_sadness_size, embedding_dim))\n",
        "model_sadness.add(Bidirectional(LSTM(hidden_units))) # Bidirectional LSTM\n",
        "model_sadness.add(Dense(1, activation='sigmoid'))\n",
        "\n",
        "es_sadness = EarlyStopping(monitor='val_loss', mode='min', verbose=1, patience=4)\n",
        "mc_sadness = ModelCheckpoint('best_sadness_model.h5', monitor='val_acc', mode='max', verbose=1, save_best_only=True)\n",
        "\n",
        "model_sadness.compile(optimizer='rmsprop', loss='binary_crossentropy', metrics=['acc'])\n",
        "history_sadness = model_sadness.fit(X_sadness_train, y_sadness_train, epochs=15, callbacks=[es_sadness, mc_sadness], batch_size=128, validation_split=0.2)"
      ]
    },
    {
      "cell_type": "code",
      "execution_count": null,
      "metadata": {
        "id": "UBefRzRi7th6"
      },
      "outputs": [],
      "source": [
        "#입력된 문장 전처리 함수 정의\n",
        "\n",
        "def process_text(new_sentence):\n",
        "  new_sentence = re.sub(r'[^ㄱ-ㅎㅏ-ㅣ가-힣 ]','', new_sentence)\n",
        "  new_sentence = mecab.morphs(new_sentence) # 토큰화\n",
        "  new_sentence = [word for word in new_sentence if not word in stopwords] # 불용어 제거\n",
        "  texts_clean = []\n",
        "  for word in new_sentence:\n",
        "    texts_clean.append(word)\n",
        "  return \" \".join(texts_clean)"
      ]
    },
    {
      "cell_type": "code",
      "execution_count": null,
      "metadata": {
        "id": "yfvZeR-S7t8y"
      },
      "outputs": [],
      "source": [
        "#분노 모델에 대한 설명자 정의\n",
        "\n",
        "explainer_anger= LimeTextExplainer(class_names=['non anger', 'anger'])\n",
        "\n",
        "def predict_anger_proba(arr):\n",
        "  processed=[]\n",
        "  for i in arr:\n",
        "    processed.append(process_text(i))\n",
        "  list_tokenized_ex = tokenizer_anger.texts_to_sequences(processed)\n",
        "  Ex = pad_sequences(list_tokenized_ex, maxlen=max_len)\n",
        "  pred=model_anger.predict(Ex)\n",
        "  returnable=[]\n",
        "  for i in pred:\n",
        "    temp=i[0]\n",
        "    returnable.append(np.array([1-temp,temp])) #I would recommend rounding temp and 1-temp off to 2 places\n",
        "  return np.array(returnable)"
      ]
    },
    {
      "cell_type": "code",
      "execution_count": null,
      "metadata": {
        "id": "xHRYphve7uVU"
      },
      "outputs": [],
      "source": [
        "#불안 모델에 대한 설명자 정의\n",
        "\n",
        "explainer_anxiety= LimeTextExplainer(class_names=['non anxiety', 'anxiety'])\n",
        "\n",
        "def predict_anxiety_proba(arr):\n",
        "  processed=[]\n",
        "  for i in arr:\n",
        "    processed.append(process_text(i))\n",
        "  list_tokenized_ex = tokenizer_anxiety.texts_to_sequences(processed)\n",
        "  Ex = pad_sequences(list_tokenized_ex, maxlen=max_len)\n",
        "  pred=model_anxiety.predict(Ex)\n",
        "  returnable=[]\n",
        "  for i in pred:\n",
        "    temp=i[0]\n",
        "    returnable.append(np.array([1-temp,temp])) #I would recommend rounding temp and 1-temp off to 2 places\n",
        "  return np.array(returnable)"
      ]
    },
    {
      "cell_type": "code",
      "execution_count": null,
      "metadata": {
        "id": "ljykIb1z7uqQ"
      },
      "outputs": [],
      "source": [
        "#당황 모델에 대한 설명자 정의\n",
        "\n",
        "explainer_embarrassment= LimeTextExplainer(class_names=['non embarrassment', 'embarrassment'])\n",
        "\n",
        "def predict_embarrassment_proba(arr):\n",
        "  processed=[]\n",
        "  for i in arr:\n",
        "    processed.append(process_text(i))\n",
        "  list_tokenized_ex = tokenizer_embarrassment.texts_to_sequences(processed)\n",
        "  Ex = pad_sequences(list_tokenized_ex, maxlen=max_len)\n",
        "  pred=model_embarrassment.predict(Ex)\n",
        "  returnable=[]\n",
        "  for i in pred:\n",
        "    temp=i[0]\n",
        "    returnable.append(np.array([1-temp,temp])) #I would recommend rounding temp and 1-temp off to 2 places\n",
        "  return np.array(returnable)"
      ]
    },
    {
      "cell_type": "code",
      "execution_count": null,
      "metadata": {
        "id": "zp7s7RnG7u8x"
      },
      "outputs": [],
      "source": [
        "#기쁨 모델에 대한 설명자 정의\n",
        "\n",
        "explainer_happy= LimeTextExplainer(class_names=['non happy', 'happy'])\n",
        "\n",
        "def predict_happy_proba(arr):\n",
        "  processed=[]\n",
        "  for i in arr:\n",
        "    processed.append(process_text(i))\n",
        "  list_tokenized_ex = tokenizer_happy.texts_to_sequences(processed)\n",
        "  Ex = pad_sequences(list_tokenized_ex, maxlen=max_len)\n",
        "  pred=model_happy.predict(Ex)\n",
        "  returnable=[]\n",
        "  for i in pred:\n",
        "    temp=i[0]\n",
        "    returnable.append(np.array([1-temp,temp])) #I would recommend rounding temp and 1-temp off to 2 places\n",
        "  return np.array(returnable)"
      ]
    },
    {
      "cell_type": "code",
      "execution_count": null,
      "metadata": {
        "id": "AHSy1gSJ7vVU"
      },
      "outputs": [],
      "source": [
        "#상처 모델에 대한 설명자 정의\n",
        "\n",
        "explainer_hurt= LimeTextExplainer(class_names=['non hurt', 'hurt'])\n",
        "\n",
        "def predict_hurt_proba(arr):\n",
        "  processed=[]\n",
        "  for i in arr:\n",
        "    processed.append(process_text(i))\n",
        "  list_tokenized_ex = tokenizer_hurt.texts_to_sequences(processed)\n",
        "  Ex = pad_sequences(list_tokenized_ex, maxlen=max_len)\n",
        "  pred=model_hurt.predict(Ex)\n",
        "  returnable=[]\n",
        "  for i in pred:\n",
        "    temp=i[0]\n",
        "    returnable.append(np.array([1-temp,temp])) #I would recommend rounding temp and 1-temp off to 2 places\n",
        "  return np.array(returnable)"
      ]
    },
    {
      "cell_type": "code",
      "execution_count": null,
      "metadata": {
        "id": "HKUvlLA88ity"
      },
      "outputs": [],
      "source": [
        "#슬픔 모델에 대한 설명자 정의\n",
        "\n",
        "explainer_sadness= LimeTextExplainer(class_names=['non sadness', 'sadness'])\n",
        "\n",
        "def predict_sadness_proba(arr):\n",
        "  processed=[]\n",
        "  for i in arr:\n",
        "    processed.append(process_text(i))\n",
        "  list_tokenized_ex = tokenizer_sadness.texts_to_sequences(processed)\n",
        "  Ex = pad_sequences(list_tokenized_ex, maxlen=max_len)\n",
        "  pred=model_sadness.predict(Ex)\n",
        "  returnable=[]\n",
        "  for i in pred:\n",
        "    temp=i[0]\n",
        "    returnable.append(np.array([1-temp,temp])) #I would recommend rounding temp and 1-temp off to 2 places\n",
        "  return np.array(returnable)"
      ]
    },
    {
      "cell_type": "code",
      "execution_count": null,
      "metadata": {
        "colab": {
          "background_save": true
        },
        "id": "MLhYpUGE-PMC"
      },
      "outputs": [],
      "source": [
        "explainer_anger.explain_instance(\"안녕하세요!!\",predict_anger_proba).show_in_notebook(text=True)"
      ]
    },
    {
      "cell_type": "code",
      "execution_count": null,
      "metadata": {
        "colab": {
          "background_save": true
        },
        "id": "n_T9v9RL-O-I"
      },
      "outputs": [],
      "source": [
        "explainer_anxiety.explain_instance(\"안녕하세요!!\",predict_anxiety_proba).show_in_notebook(text=True)"
      ]
    },
    {
      "cell_type": "code",
      "execution_count": null,
      "metadata": {
        "colab": {
          "background_save": true
        },
        "id": "gWJMGaEd-O3S"
      },
      "outputs": [],
      "source": [
        "explainer_embarrassment.explain_instance(\"안녕하세요!!\",predict_embarrassment_proba).show_in_notebook(text=True)"
      ]
    },
    {
      "cell_type": "code",
      "execution_count": null,
      "metadata": {
        "id": "4QLcbV_6-OwU"
      },
      "outputs": [],
      "source": [
        "explainer_happy.explain_instance(\"안녕하세요!!\",predict_happy_proba).show_in_notebook(text=True)"
      ]
    },
    {
      "cell_type": "code",
      "execution_count": null,
      "metadata": {
        "id": "erU6IFVz-Ooy"
      },
      "outputs": [],
      "source": [
        "explainer_hurt.explain_instance(\"안녕하세요!!\",predict_hurt_proba).show_in_notebook(text=True)"
      ]
    },
    {
      "cell_type": "code",
      "execution_count": null,
      "metadata": {
        "id": "O0PgrrX_-OZg"
      },
      "outputs": [],
      "source": [
        "explainer_sadness.explain_instance(\"안녕하세요!!\",predict_sadness_proba).show_in_notebook(text=True)"
      ]
    }
  ],
  "metadata": {
    "accelerator": "GPU",
    "colab": {
      "background_execution": "on",
      "collapsed_sections": [],
      "machine_shape": "hm",
      "name": "R&E_multi_lstm",
      "provenance": [],
      "authorship_tag": "ABX9TyPAWozZOic/X5xipOX6f1ad",
      "include_colab_link": true
    },
    "gpuClass": "standard",
    "kernelspec": {
      "display_name": "Python 3",
      "name": "python3"
    },
    "language_info": {
      "name": "python"
    }
  },
  "nbformat": 4,
  "nbformat_minor": 0
}